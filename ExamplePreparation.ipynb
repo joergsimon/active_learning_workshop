{
 "cells": [
  {
   "cell_type": "markdown",
   "source": [
    "\n",
    "# Example Preparation\n",
    " In this Notebook we do some data preprocessing for the later examples. In case you do not have the preprocessed data from Joerg, you can download the FER2013 dataset from [here](https://www.kaggle.com/c/challenges-in-representation-learning-facial-expression-recognition-challenge/data) and process it with the following code.\n",
    " "
   ],
   "metadata": {
    "collapsed": false
   },
   "id": "4e6ab1902530433d"
  },
  {
   "cell_type": "code",
   "outputs": [],
   "source": [
    "import numpy as np\n",
    "import matplotlib.pyplot as plt\n",
    "from pathlib import Path"
   ],
   "metadata": {
    "collapsed": false,
    "ExecuteTime": {
     "end_time": "2024-01-22T20:45:20.458978Z",
     "start_time": "2024-01-22T20:45:18.518081Z"
    }
   },
   "id": "1e38a60287f7f409",
   "execution_count": 1
  },
  {
   "cell_type": "code",
   "outputs": [],
   "source": [
    "path_to_data = Path('/Users/joergsimon/Downloads/fer2013/train.csv')\n",
    "path_to_new_file = Path('/Users/joergsimon/Downloads/fer2013/train_small.csv')"
   ],
   "metadata": {
    "collapsed": false,
    "ExecuteTime": {
     "end_time": "2024-01-22T20:56:23.111954Z",
     "start_time": "2024-01-22T20:56:23.108600Z"
    }
   },
   "id": "d8572922911ba90e",
   "execution_count": 16
  },
  {
   "cell_type": "code",
   "outputs": [],
   "source": [
    "def get_label_distribution(path_to_data):\n",
    "    with open(path_to_data) as f:\n",
    "        content = f.readlines()\n",
    "    return get_label_distribution_from_lines(content)\n",
    "\n",
    "def get_label_distribution_from_lines(content):\n",
    "    labels = [int(line.split(',')[0]) for line in content[1:]]\n",
    "    return np.bincount(labels)"
   ],
   "metadata": {
    "collapsed": false,
    "ExecuteTime": {
     "end_time": "2024-01-22T20:56:34.493269Z",
     "start_time": "2024-01-22T20:56:34.487270Z"
    }
   },
   "id": "f97aac226e9f940a",
   "execution_count": 19
  },
  {
   "cell_type": "code",
   "outputs": [],
   "source": [
    "def create_smaller_train(path_to_data, path_to_new_file, percent=0.1):\n",
    "    with open(path_to_data) as f:\n",
    "        content = f.readlines()\n",
    "    n_wanted = np.ceil(get_label_distribution_from_lines(content) * percent)\n",
    "    labels = [int(line.split(',')[0]) for line in content[1:]]\n",
    "    data = [line.split(',')[1] for line in content[1:]]\n",
    "    with open(path_to_new_file, 'w') as f:\n",
    "        f.write('emotion,pixels\\n')\n",
    "        for i in range(len(labels)):\n",
    "            if n_wanted[labels[i]] > 0:\n",
    "                n_wanted[labels[i]] -= 1\n",
    "                f.write(str(labels[i]) + ',' + data[i] + '\\n')"
   ],
   "metadata": {
    "collapsed": false,
    "ExecuteTime": {
     "end_time": "2024-01-22T21:00:49.720771Z",
     "start_time": "2024-01-22T21:00:49.715950Z"
    }
   },
   "id": "973aac90b2eb3291",
   "execution_count": 26
  },
  {
   "cell_type": "code",
   "outputs": [],
   "source": [
    "create_smaller_train(path_to_data, path_to_new_file, percent=0.1)"
   ],
   "metadata": {
    "collapsed": false,
    "ExecuteTime": {
     "end_time": "2024-01-22T21:00:52.328525Z",
     "start_time": "2024-01-22T21:00:50.962822Z"
    }
   },
   "id": "e25f3b11d6740099",
   "execution_count": 27
  },
  {
   "cell_type": "code",
   "outputs": [],
   "source": [
    "bins = get_label_distribution(path_to_data)"
   ],
   "metadata": {
    "collapsed": false,
    "ExecuteTime": {
     "end_time": "2024-01-22T21:27:58.859755Z",
     "start_time": "2024-01-22T21:27:57.845468Z"
    }
   },
   "id": "397721e82fbf5058",
   "execution_count": 28
  },
  {
   "cell_type": "code",
   "outputs": [
    {
     "data": {
      "text/plain": "array([3995,  436, 4097, 7215, 4830, 3171, 4965])"
     },
     "execution_count": 29,
     "metadata": {},
     "output_type": "execute_result"
    }
   ],
   "source": [
    "bins"
   ],
   "metadata": {
    "collapsed": false,
    "ExecuteTime": {
     "end_time": "2024-01-22T21:28:01.944552Z",
     "start_time": "2024-01-22T21:28:01.940774Z"
    }
   },
   "id": "cdc4e360beb58716",
   "execution_count": 29
  },
  {
   "cell_type": "code",
   "outputs": [],
   "source": [],
   "metadata": {
    "collapsed": false
   },
   "id": "4daf966e4a703010"
  }
 ],
 "metadata": {
  "kernelspec": {
   "display_name": "Python 3",
   "language": "python",
   "name": "python3"
  },
  "language_info": {
   "codemirror_mode": {
    "name": "ipython",
    "version": 2
   },
   "file_extension": ".py",
   "mimetype": "text/x-python",
   "name": "python",
   "nbconvert_exporter": "python",
   "pygments_lexer": "ipython2",
   "version": "2.7.6"
  }
 },
 "nbformat": 4,
 "nbformat_minor": 5
}
